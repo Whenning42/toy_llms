{
 "cells": [
  {
   "cell_type": "code",
   "execution_count": null,
   "metadata": {},
   "outputs": [],
   "source": [
    "# Download OLMO checkpoint and look at:\n",
    "#\n",
    "# Download the OLMO checkpoints of interest and figure out how to load weights\n",
    "# for specific parts of the model.\n",
    "#\n",
    "# Look at weights:\n",
    "# - Select early, mid, and late checkpoints\n",
    "# - Download the checkpoints\n",
    "# - Figure out how to view specific layers in the checkpoint\n",
    "# - Verify we understand the OLMO architecture\n",
    "#   - Check how many attention matrices there are\n",
    "#   - Check how many ffn matricies there are\n",
    "# - Plot\n",
    "#   - embed/unembed weights\n",
    "#   - q, k, v, o, ffn weights at first, middle, and last layer\n",
    "# - Analyze the data\n",
    "#   - What do we expect to see?\n",
    "#   - early checkpoints normally distributed at all positions and matrix type\n",
    "#   - middle and last checkpoint may have a diverged distribution at some positions\n",
    "#     or matrix type? most likely embed or unembed\n",
    "#\n",
    "# Look at activations:\n",
    "# - Set up an OLMO dataloader that can load data at the correct step offset\n",
    "# - Look at OLMO activation distribution when inferenced on this batch of data\n",
    "#\n",
    "# Look at weight trajectories:\n",
    "# - Both at the parameter and distribution level\n",
    "# - Both across the full training run and just between checkpoints\n"
   ]
  },
  {
   "cell_type": "code",
   "execution_count": 12,
   "metadata": {},
   "outputs": [
    {
     "name": "stdout",
     "output_type": "stream",
     "text": [
      "step500-tokens2B\n"
     ]
    },
    {
     "name": "stderr",
     "output_type": "stream",
     "text": [
      "Downloading shards: 100%|██████████| 6/6 [11:48<00:00, 118.07s/it]\n",
      "Loading checkpoint shards: 100%|██████████| 6/6 [00:00<00:00,  8.15it/s]\n"
     ]
    }
   ],
   "source": [
    "# Look at weights\n",
    "\n",
    "# We'll use the 'allenai/OLMo-7B-0424-hf' model since it has checkpoints available every\n",
    "# 1000 steps. I think the model's warmed up for 2500 since t_warmup in the config is\n",
    "# 10485760000 which = 2500 after dividing by 1024 (bs) and 4096 (context).\n",
    "# Note: Warm-up affects LR, but not optimizer momentum or variance.\n",
    "\n",
    "# We use the HF API to load checkpoints\n",
    "from huggingface_hub import list_repo_refs\n",
    "from transformers import AutoModelForCausalLM\n",
    "\n",
    "MODEL = 'allenai/OLMo-7B-0424-hf'\n",
    "\n",
    "out = list_repo_refs('allenai/OLMo-7B-0424-hf')\n",
    "branches = [b.name for b in out.branches]\n",
    "\n",
    "selected_steps = [500, 100_000, 300_000, 600_000]\n",
    "checkpoint_branches = []\n",
    "\n",
    "for step_choice in selected_steps:\n",
    "    for ckpt in branches:\n",
    "        if ckpt.startswith(f'step{step_choice}-tokens'):\n",
    "            checkpoint_branches.append(ckpt)\n",
    "\n",
    "b = checkpoint_branches[0]\n",
    "print(b)\n",
    "\n",
    "olmo = AutoModelForCausalLM.from_pretrained('allenai/OLMo-7B-0424-hf', revision=b)\n"
   ]
  },
  {
   "cell_type": "code",
   "execution_count": 22,
   "metadata": {},
   "outputs": [
    {
     "data": {
      "image/png": "[encoded data removed]",
      "text/plain": [
       "<Figure size 640x480 with 1 Axes>"
      ]
     },
     "metadata": {},
     "output_type": "display_data"
    }
   ],
   "source": [
    "# Look at olmo model weights\n",
    "\n",
    "from matplotlib import pyplot as plt\n",
    "\n",
    "# olmo.model.embed_tokens (Embedding)\n",
    "# olmo.model.layers[i].self_attn\n",
    "#   - q_proj (Linear)\n",
    "#   - k_proj (Linear)\n",
    "#   - v_proj (Linear)\n",
    "#   - o_proj (Linear)\n",
    "# olmo.model.layers[i].mlp\n",
    "#   - gate_proj (Linear)\n",
    "#   - up_proj (Linear)\n",
    "#   - down_proj (Linear)\n",
    "# olmo.lm_head (Linear)\n",
    "\n",
    "embed_weights = olmo.model.embed_tokens.weight\n",
    "unembed_weights = olmo.lm_head.weight\n",
    "\n",
    "# layers = [0, 16, 31]\n",
    "layer = 0\n",
    "\n",
    "q_proj = olmo.model.layers[layer].self_attn.q_proj.weight\n",
    "k_proj = olmo.model.layers[layer].self_attn.k_proj.weight\n",
    "v_proj = olmo.model.layers[layer].self_attn.v_proj.weight\n",
    "o_proj = olmo.model.layers[layer].self_attn.o_proj.weight\n",
    "\n",
    "gate_proj = olmo.model.layers[layer].mlp.gate_proj.weight\n",
    "up_proj = olmo.model.layers[layer].mlp.up_proj.weight\n",
    "down_proj = olmo.model.layers[layer].mlp.down_proj.weight\n",
    "\n",
    "# Note: The weights are initialized via \"mitchell\" normalization:\n",
    "#   attn_out_std = 1 / (math.sqrt(2 * self.config.d_model * (self.layer_id + 1)))\n",
    "#   ff_out_std = 1 / (math.sqrt(2 * self.ff_out.in_features * (self.layer_id + 1)))\n",
    "#   cutoff_factor = self.config.init_cutoff_factor or 3.0\n",
    "\n",
    "# \n",
    "# _ = plt.hist(embed_weights.detach().numpy().flatten(), bins=100, alpha=.5, label='embed')\n",
    "# _ = plt.hist(unembed_weights.detach().numpy().flatten(), bins=100, alpha=.5, label='unembed')\n"
   ]
  },
  {
   "cell_type": "code",
   "execution_count": null,
   "metadata": {},
   "outputs": [],
   "source": []
  }
 ],
 "metadata": {
  "kernelspec": {
   "display_name": ".venv",
   "language": "python",
   "name": "python3"
  },
  "language_info": {
   "codemirror_mode": {
    "name": "ipython",
    "version": 3
   },
   "file_extension": ".py",
   "mimetype": "text/x-python",
   "name": "python",
   "nbconvert_exporter": "python",
   "pygments_lexer": "ipython3",
   "version": "3.11.9"
  }
 },
 "nbformat": 4,
 "nbformat_minor": 2
}
